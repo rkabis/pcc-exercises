{
 "cells": [
  {
   "cell_type": "code",
   "execution_count": 1,
   "metadata": {},
   "outputs": [],
   "source": [
    "%load_ext lab_black"
   ]
  },
  {
   "cell_type": "markdown",
   "metadata": {},
   "source": [
    "### Situation\n",
    "One hundred people are lined up with their boarding passes showing their seats on the 100-seat Plane. The first guy in line drops his pass as he enters the plane, and unable to pick it up with others behind him sits in a random seat. The people behind him, who have their passes, sit in their seats until one of them comes upon someone sitting in his seat, and takes his seat in a new randomly chosen seat. This process continues until there is only one seat left for the last person. What is the probability that the last person will find his seat unoccupied?"
   ]
  },
  {
   "cell_type": "code",
   "execution_count": 2,
   "metadata": {},
   "outputs": [],
   "source": [
    "import random"
   ]
  },
  {
   "cell_type": "code",
   "execution_count": 3,
   "metadata": {},
   "outputs": [
    {
     "name": "stdout",
     "output_type": "stream",
     "text": [
      "0.50065\n"
     ]
    }
   ],
   "source": [
    "trials = 100000\n",
    "num_passengers = 100\n",
    "results_list = []\n",
    "\n",
    "for i in range(trials):\n",
    "    # initialize list of seats that are unoccupied\n",
    "    available_seats = [x + 1 for x in range(num_passengers)]\n",
    "\n",
    "    # initial seats of each passenger. first element refers to seat of first passenger to enter\n",
    "    passenger_assignment = [x + 1 for x in range(num_passengers)]\n",
    "    random.shuffle(passenger_assignment)\n",
    "\n",
    "    is_match = False\n",
    "\n",
    "    for passenger in passenger_assignment:\n",
    "        # last passenger checks last seat\n",
    "        if len(available_seats) == 1:\n",
    "            if passenger == available_seats[0]:\n",
    "                is_match = True\n",
    "        # first passenger randomly chooses a seat\n",
    "        if len(available_seats) == num_passengers:\n",
    "            available_seats.pop(random.randint(0, len(available_seats) - 1))\n",
    "\n",
    "        else:\n",
    "            # if passenger finds the seat available and sticks to what's on the ticket\n",
    "            if passenger in available_seats:\n",
    "                available_seats.remove(passenger)\n",
    "            # if passenger finds someone sitting on seat and chooses a random one instead\n",
    "            else:\n",
    "                available_seats.pop(random.randint(0, len(available_seats) - 1))\n",
    "\n",
    "    results_list.append(is_match)\n",
    "\n",
    "print(sum(results_list) / len(results_list))"
   ]
  },
  {
   "cell_type": "markdown",
   "metadata": {},
   "source": [
    "So there are three cases for the first passenger:\n",
    "1. randomly chooses correct seat\n",
    "2. randomly chooses the last person's seat\n",
    "3. randomly chooses someone's seat (not 1 or 2)\n",
    "\n",
    "If 1 happens, then everyone else will not have to steal anyone else's seat, which means last person will get to sit in the right seat.\n",
    "$\\frac{1}{100}$ * 1\n",
    "\n",
    "If 2 happens, there is no way the last person will get to sit on the right seat.\n",
    "$\\frac{1}{100}$ * 0\n",
    "\n",
    "If 3 happens, there is a 50% chance last person will get to sit in right place\n",
    "$\\frac{98}{100}$ * $\\frac{1}{2}$\n",
    "\n",
    "Adding the three possible situations will equal to 0.50 or 50%"
   ]
  },
  {
   "cell_type": "code",
   "execution_count": null,
   "metadata": {},
   "outputs": [],
   "source": []
  }
 ],
 "metadata": {
  "kernelspec": {
   "display_name": "Python 3",
   "language": "python",
   "name": "python3"
  },
  "language_info": {
   "codemirror_mode": {
    "name": "ipython",
    "version": 3
   },
   "file_extension": ".py",
   "mimetype": "text/x-python",
   "name": "python",
   "nbconvert_exporter": "python",
   "pygments_lexer": "ipython3",
   "version": "3.7.3"
  }
 },
 "nbformat": 4,
 "nbformat_minor": 4
}
