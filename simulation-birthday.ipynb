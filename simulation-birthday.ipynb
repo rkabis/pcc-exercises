{
 "cells": [
  {
   "cell_type": "code",
   "execution_count": 1,
   "metadata": {},
   "outputs": [],
   "source": [
    "%load_ext lab_black"
   ]
  },
  {
   "cell_type": "markdown",
   "metadata": {},
   "source": [
    "### Situation\n",
    "In a room of 30, what is the probability that any 2 people will share the same birthday? Assume 365 days a year.\n",
    "\n",
    "Answer based on simulation below"
   ]
  },
  {
   "cell_type": "code",
   "execution_count": 2,
   "metadata": {},
   "outputs": [],
   "source": [
    "import random\n",
    "import itertools"
   ]
  },
  {
   "cell_type": "code",
   "execution_count": 3,
   "metadata": {},
   "outputs": [
    {
     "name": "stdout",
     "output_type": "stream",
     "text": [
      "0.3841\n"
     ]
    }
   ],
   "source": [
    "g = random.Random()\n",
    "trials = 10000\n",
    "chances_list = []\n",
    "participants = 30\n",
    "\n",
    "for i in range(trials):\n",
    "    participants_birthday = [g.randint(1, 365) for x in range(participants)]\n",
    "\n",
    "    is_match = False\n",
    "\n",
    "    # Check all combinations of participants and compare their birthdays\n",
    "    for subset in itertools.combinations(participants_birthday, 2):\n",
    "        bday_a = subset[0]\n",
    "        bday_b = subset[1]\n",
    "\n",
    "        # The moment one person matches with another person, break the loop and\n",
    "        # consider the trial a success in finding 2 people with the same birthday\n",
    "        #         if bday_a == bday_b:\n",
    "        #             is_match = True\n",
    "        #             break\n",
    "\n",
    "        # Use this if exactly 2 people only should have same birthday\n",
    "        if bday_a == bday_b:\n",
    "            # meaning another pair were found to have same birthday\n",
    "            if is_match == True:\n",
    "                is_match = False\n",
    "                break\n",
    "            else:\n",
    "                is_match = True\n",
    "\n",
    "    chances_list.append(is_match)\n",
    "\n",
    "print(sum(chances_list) / len(chances_list))"
   ]
  },
  {
   "cell_type": "markdown",
   "metadata": {},
   "source": [
    "Answer based on probability below\n",
    "\n",
    "Approach:\n",
    "Compute for probability that they all have different birthdays.\n",
    "\n",
    "That would be \n",
    "$\\frac{365!}{365^{30}(335)!}$\n",
    "\n",
    "which is just \n",
    "$\\frac{365}{365}$ * $\\frac{364}{365}$ * ... * $\\frac{365-30}{365}$\n",
    "\n",
    "then just subtract that number from 1 to get probability that at least 2 people will have the same birthday"
   ]
  },
  {
   "cell_type": "code",
   "execution_count": 4,
   "metadata": {},
   "outputs": [
    {
     "name": "stdout",
     "output_type": "stream",
     "text": [
      "70.63162427192687\n"
     ]
    }
   ],
   "source": [
    "import math\n",
    "\n",
    "a = math.factorial(365)\n",
    "b = math.factorial(335)\n",
    "c = 365 ** 30\n",
    "\n",
    "diff_bday_probability = a / (b * c)\n",
    "same_bday_probability = 1 - diff_bday_probability\n",
    "print(same_bday_probability * 100)"
   ]
  },
  {
   "cell_type": "markdown",
   "metadata": {},
   "source": [
    "If exactly two people then we have to \n",
    "\n",
    "#### Get how many ways to choose 2 people from 30\n",
    "$\\binom{30}{2}$\n",
    "#### Get how many possible birthdays they can have\n",
    "$365$\n",
    "#### then there are 28 people left so their birthdays\n",
    "$364 * 363 * 362 * ... * (364-28)$\n",
    "#### then 30 people out of 365 days so\n",
    "$365^{30}$\n",
    "\n",
    "#### so final equation is\n",
    "$\\frac{\\binom{30}{2} * 365 * 364!}{365^{30}(336)!}$"
   ]
  },
  {
   "cell_type": "code",
   "execution_count": 5,
   "metadata": {},
   "outputs": [
    {
     "name": "stdout",
     "output_type": "stream",
     "text": [
      "0.38021557862237537\n"
     ]
    }
   ],
   "source": [
    "a = 435 * 365\n",
    "b = math.factorial(364) / math.factorial(336)\n",
    "c = 365 ** 30\n",
    "\n",
    "print((a * b) / c)"
   ]
  }
 ],
 "metadata": {
  "kernelspec": {
   "display_name": "Python 3",
   "language": "python",
   "name": "python3"
  },
  "language_info": {
   "codemirror_mode": {
    "name": "ipython",
    "version": 3
   },
   "file_extension": ".py",
   "mimetype": "text/x-python",
   "name": "python",
   "nbconvert_exporter": "python",
   "pygments_lexer": "ipython3",
   "version": "3.7.3"
  }
 },
 "nbformat": 4,
 "nbformat_minor": 4
}
