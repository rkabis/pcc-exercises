{
 "cells": [
  {
   "cell_type": "code",
   "execution_count": 1,
   "metadata": {},
   "outputs": [],
   "source": [
    "%load_ext lab_black"
   ]
  },
  {
   "cell_type": "code",
   "execution_count": 2,
   "metadata": {},
   "outputs": [
    {
     "name": "stdout",
     "output_type": "stream",
     "text": [
      "Trying:\n",
      "    add(2, 2)\n",
      "Expecting:\n",
      "    4\n",
      "ok\n",
      "Trying:\n",
      "    add(2, None)\n",
      "Expecting:\n",
      "    'Invalid'\n",
      "ok\n",
      "1 items had no tests:\n",
      "    __main__\n",
      "1 items passed all tests:\n",
      "   2 tests in __main__.add\n",
      "2 tests in 2 items.\n",
      "2 passed and 0 failed.\n",
      "Test passed.\n"
     ]
    },
    {
     "data": {
      "text/plain": [
       "TestResults(failed=0, attempted=2)"
      ]
     },
     "execution_count": 2,
     "metadata": {},
     "output_type": "execute_result"
    }
   ],
   "source": [
    "def add(a, b):\n",
    "    \"\"\"\n",
    "    Test for valid output:\n",
    "    >>> add(2, 2)\n",
    "    4\n",
    "\n",
    "    Test for valid input:\n",
    "    >>> add(2, None)\n",
    "    'Invalid'\n",
    "    \n",
    "    \"\"\"\n",
    "\n",
    "    if isinstance(a, int) and isinstance(b, int):\n",
    "        return a + b\n",
    "    else:\n",
    "        return \"Invalid\"\n",
    "\n",
    "\n",
    "import doctest\n",
    "\n",
    "doctest.testmod(verbose=True)"
   ]
  },
  {
   "cell_type": "code",
   "execution_count": 3,
   "metadata": {},
   "outputs": [
    {
     "name": "stdout",
     "output_type": "stream",
     "text": [
      "Trying:\n",
      "    add(2, 2)\n",
      "Expecting:\n",
      "    4\n",
      "ok\n",
      "Trying:\n",
      "    add(2, None)\n",
      "Expecting:\n",
      "    'Invalid'\n",
      "ok\n",
      "Trying:\n",
      "    to_fahrenheit(56.0)\n",
      "Expecting:\n",
      "    132.8\n",
      "ok\n",
      "Trying:\n",
      "    to_fahrenheit(\"random string\")\n",
      "Expecting:\n",
      "    'Invalid'\n",
      "ok\n",
      "1 items had no tests:\n",
      "    __main__\n",
      "2 items passed all tests:\n",
      "   2 tests in __main__.add\n",
      "   2 tests in __main__.to_fahrenheit\n",
      "4 tests in 3 items.\n",
      "4 passed and 0 failed.\n",
      "Test passed.\n"
     ]
    },
    {
     "data": {
      "text/plain": [
       "TestResults(failed=0, attempted=4)"
      ]
     },
     "execution_count": 3,
     "metadata": {},
     "output_type": "execute_result"
    }
   ],
   "source": [
    "def to_fahrenheit(celsius):\n",
    "    \"\"\"\n",
    "    Converts a given temperature in degrees Celsius to degrees Fahrenheit. \n",
    "    \n",
    "    Test for valid output:\n",
    "    >>> to_fahrenheit(56.0)\n",
    "    132.8\n",
    "\n",
    "    Test for valid input:\n",
    "    >>> to_fahrenheit(\"random string\")\n",
    "    'Invalid'\n",
    "    \n",
    "    \"\"\"\n",
    "\n",
    "    if isinstance(celsius, int) or isinstance(celsius, float):\n",
    "        return celsius * 1.8 + 32\n",
    "    else:\n",
    "        return \"Invalid\"\n",
    "\n",
    "doctest.testmod(verbose=True)"
   ]
  },
  {
   "cell_type": "code",
   "execution_count": 2,
   "metadata": {},
   "outputs": [
    {
     "name": "stdout",
     "output_type": "stream",
     "text": [
      "Trying:\n",
      "    to_seconds(4)\n",
      "Expecting:\n",
      "    14400\n",
      "ok\n",
      "Trying:\n",
      "    to_seconds(\"random string\")\n",
      "Expecting:\n",
      "    'Invalid'\n",
      "ok\n",
      "1 items had no tests:\n",
      "    __main__\n",
      "1 items passed all tests:\n",
      "   2 tests in __main__.to_seconds\n",
      "2 tests in 2 items.\n",
      "2 passed and 0 failed.\n",
      "Test passed.\n"
     ]
    },
    {
     "data": {
      "text/plain": [
       "TestResults(failed=0, attempted=2)"
      ]
     },
     "execution_count": 2,
     "metadata": {},
     "output_type": "execute_result"
    }
   ],
   "source": [
    "def to_seconds(hour):\n",
    "    \"\"\"\n",
    "    Converts a given number of hours to seconds. \n",
    "    \n",
    "    Test for valid output:\n",
    "    >>> to_seconds(4)\n",
    "    14400\n",
    "\n",
    "    Test for valid input:\n",
    "    >>> to_seconds(\"random string\")\n",
    "    'Invalid'\n",
    "    \n",
    "    \"\"\"\n",
    "\n",
    "    if isinstance(hour, int) or isinstance(hour, float):\n",
    "        return hour * 3600\n",
    "    else:\n",
    "        return \"Invalid\"\n",
    "\n",
    "\n",
    "import doctest\n",
    "\n",
    "doctest.testmod(verbose=True)"
   ]
  },
  {
   "cell_type": "code",
   "execution_count": 1,
   "metadata": {},
   "outputs": [
    {
     "name": "stdout",
     "output_type": "stream",
     "text": [
      "Trying:\n",
      "    to_minutes(4)\n",
      "Expecting:\n",
      "    240\n",
      "ok\n",
      "Trying:\n",
      "    to_minutes(\"random string\")\n",
      "Expecting:\n",
      "    'Invalid'\n",
      "ok\n",
      "1 items had no tests:\n",
      "    __main__\n",
      "1 items passed all tests:\n",
      "   2 tests in __main__.to_minutes\n",
      "2 tests in 2 items.\n",
      "2 passed and 0 failed.\n",
      "Test passed.\n"
     ]
    },
    {
     "data": {
      "text/plain": [
       "TestResults(failed=0, attempted=2)"
      ]
     },
     "execution_count": 1,
     "metadata": {},
     "output_type": "execute_result"
    }
   ],
   "source": [
    "def to_minutes(hour):\n",
    "    \"\"\"\n",
    "    Converts a given number of hours to minutes.\n",
    "    \n",
    "    Test for valid output:\n",
    "    >>> to_minutes(4)\n",
    "    240\n",
    "\n",
    "    Test for valid input:\n",
    "    >>> to_minutes(\"random string\")\n",
    "    'Invalid'\n",
    "    \n",
    "    \"\"\"\n",
    "\n",
    "    if isinstance(hour, int) or isinstance(hour, float):\n",
    "        return hour * 60\n",
    "    else:\n",
    "        return \"Invalid\"\n",
    "\n",
    "\n",
    "import doctest\n",
    "\n",
    "doctest.testmod(verbose=True)"
   ]
  },
  {
   "cell_type": "code",
   "execution_count": null,
   "metadata": {},
   "outputs": [],
   "source": []
  }
 ],
 "metadata": {
  "kernelspec": {
   "display_name": "Python 3",
   "language": "python",
   "name": "python3"
  },
  "language_info": {
   "codemirror_mode": {
    "name": "ipython",
    "version": 3
   },
   "file_extension": ".py",
   "mimetype": "text/x-python",
   "name": "python",
   "nbconvert_exporter": "python",
   "pygments_lexer": "ipython3",
   "version": "3.8.0"
  }
 },
 "nbformat": 4,
 "nbformat_minor": 4
}
